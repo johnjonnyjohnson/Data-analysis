{
 "cells": [
  {
   "cell_type": "code",
   "execution_count": 2,
   "metadata": {},
   "outputs": [],
   "source": [
    "import matplotlib.pyplot as plt\n",
    "import seaborn as sns\n",
    "import pandas as pd\n",
    "import numpy as np"
   ]
  },
  {
   "cell_type": "markdown",
   "metadata": {},
   "source": [
    "## Example for synthetic marketing data"
   ]
  },
  {
   "cell_type": "code",
   "execution_count": 16,
   "metadata": {},
   "outputs": [
    {
     "name": "stdout",
     "output_type": "stream",
     "text": [
      "Index(['Year_Birth', 'Income', 'Kidhome', 'Teenhome', 'Recency', 'MntWines',\n",
      "       'MntFruits', 'MntMeatProducts', 'MntFishProducts', 'MntSweetProducts',\n",
      "       'MntGoldProds', 'NumDealsPurchases', 'NumWebPurchases',\n",
      "       'NumCatalogPurchases', 'NumStorePurchases', 'NumWebVisitsMonth',\n",
      "       'AcceptedCmp3', 'AcceptedCmp4', 'AcceptedCmp5', 'AcceptedCmp1',\n",
      "       'AcceptedCmp2', 'Response', 'Complain', 'Education_2n Cycle',\n",
      "       'Education_Basic', 'Education_Graduation', 'Education_Master',\n",
      "       'Education_PhD', 'Marital_Status_Absurd', 'Marital_Status_Alone',\n",
      "       'Marital_Status_Divorced', 'Marital_Status_Married',\n",
      "       'Marital_Status_Single', 'Marital_Status_Together',\n",
      "       'Marital_Status_Widow', 'Country_AUS', 'Country_CA', 'Country_GER',\n",
      "       'Country_IND', 'Country_ME', 'Country_SA', 'Country_SP', 'Country_US'],\n",
      "      dtype='object')\n"
     ]
    }
   ],
   "source": [
    "syn = pd.read_csv('synthetic_DPWGAN_marketing.csv').drop('Unnamed: 0', axis=1)\n",
    "real = pd.read_csv('marketing_processed.csv')\n",
    "print(real.columns)"
   ]
  },
  {
   "cell_type": "code",
   "execution_count": 17,
   "metadata": {
    "scrolled": true
   },
   "outputs": [
    {
     "data": {
      "text/plain": [
       "<matplotlib.legend.Legend at 0x7f800c161d00>"
      ]
     },
     "execution_count": 17,
     "metadata": {},
     "output_type": "execute_result"
    },
    {
     "data": {
      "image/png": "[encoded data removed]",
      "text/plain": [
       "<Figure size 432x288 with 1 Axes>"
      ]
     },
     "metadata": {
      "needs_background": "light"
     },
     "output_type": "display_data"
    }
   ],
   "source": [
    "COLNAME = 'Income'\n",
    "bins = np.linspace(0, 100000, 100)\n",
    "plt.hist(syn[COLNAME], bins, alpha=0.5, label='syn')\n",
    "plt.hist(real[COLNAME], bins, alpha=0.5, label='real')\n",
    "plt.legend(loc='upper right')\n"
   ]
  },
  {
   "cell_type": "markdown",
   "metadata": {},
   "source": [
    "## Example for synthetic churn data"
   ]
  },
  {
   "cell_type": "code",
   "execution_count": 14,
   "metadata": {},
   "outputs": [
    {
     "name": "stdout",
     "output_type": "stream",
     "text": [
      "Index(['CreditScore', 'Age', 'Tenure', 'Balance', 'NumOfProducts', 'HasCrCard',\n",
      "       'IsActiveMember', 'EstimatedSalary', 'Exited', 'Geography_France',\n",
      "       'Geography_Germany', 'Geography_Spain', 'Gender_Female', 'Gender_Male'],\n",
      "      dtype='object')\n"
     ]
    }
   ],
   "source": [
    "syn = pd.read_csv('synthetic_DPWGAN_churn.csv').drop('Unnamed: 0', axis=1)\n",
    "real = pd.read_csv('churn_processed.csv')\n",
    "print(real.columns)"
   ]
  },
  {
   "cell_type": "code",
   "execution_count": 15,
   "metadata": {
    "scrolled": true
   },
   "outputs": [
    {
     "data": {
      "text/plain": [
       "<matplotlib.legend.Legend at 0x7f800ca91850>"
      ]
     },
     "execution_count": 15,
     "metadata": {},
     "output_type": "execute_result"
    },
    {
     "data": {
      "image/png": "[encoded data removed]",
      "text/plain": [
       "<Figure size 432x288 with 1 Axes>"
      ]
     },
     "metadata": {
      "needs_background": "light"
     },
     "output_type": "display_data"
    }
   ],
   "source": [
    "COLNAME = 'Balance'\n",
    "bins = np.linspace(0, 100000, 100)\n",
    "plt.hist(syn[COLNAME], bins, alpha=0.5, label='syn')\n",
    "plt.hist(real[COLNAME], bins, alpha=0.5, label='real')\n",
    "plt.legend(loc='upper right')\n"
   ]
  },
  {
   "cell_type": "code",
   "execution_count": null,
   "metadata": {},
   "outputs": [],
   "source": []
  }
 ],
 "metadata": {
  "kernelspec": {
   "display_name": "Python [conda env:image]",
   "language": "python",
   "name": "conda-env-image-py"
  },
  "language_info": {
   "codemirror_mode": {
    "name": "ipython",
    "version": 3
   },
   "file_extension": ".py",
   "mimetype": "text/x-python",
   "name": "python",
   "nbconvert_exporter": "python",
   "pygments_lexer": "ipython3",
   "version": "3.8.8"
  }
 },
 "nbformat": 4,
 "nbformat_minor": 4
}
