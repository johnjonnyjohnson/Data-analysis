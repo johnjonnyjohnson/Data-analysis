{
 "cells": [
  {
   "cell_type": "markdown",
   "metadata": {
    "id": "5ijsbqc7Ipl2"
   },
   "source": [
    "## Full PATEGAN rewrite"
   ]
  },
  {
   "cell_type": "code",
   "execution_count": 2,
   "metadata": {
    "executionInfo": {
     "elapsed": 5293,
     "status": "ok",
     "timestamp": 1623408956873,
     "user": {
      "displayName": "Tee Yee Yang",
      "photoUrl": "https://lh3.googleusercontent.com/a-/AOh14GgKFrQtw-OyvubwOe5xvtv9JOTRkaAVybEHvmq9ag=s64",
      "userId": "07106232567566268752"
     },
     "user_tz": -480
    },
    "id": "QifCHxjTI5Ql"
   },
   "outputs": [],
   "source": [
    "from sklearn.neural_network import MLPClassifier\n",
    "from sklearn.ensemble import RandomForestClassifier\n",
    "from sklearn.ensemble import AdaBoostClassifier\n",
    "from sklearn.tree import DecisionTreeClassifier\n",
    "from sklearn.naive_bayes import GaussianNB\n",
    "from sklearn.naive_bayes import BernoulliNB\n",
    "from sklearn.svm import LinearSVC\n",
    "from sklearn.metrics import roc_auc_score\n",
    "from sklearn.preprocessing import StandardScaler\n",
    "from sklearn.preprocessing import MinMaxScaler\n",
    "from sklearn.model_selection import train_test_split\n",
    "\n",
    "from models import dp_wgan, pate_gan\n",
    "import numpy as np\n",
    "import pandas as pd\n",
    "import collections, time"
   ]
  },
  {
   "cell_type": "code",
   "execution_count": 3,
   "metadata": {
    "executionInfo": {
     "elapsed": 6,
     "status": "ok",
     "timestamp": 1623408956876,
     "user": {
      "displayName": "Tee Yee Yang",
      "photoUrl": "https://lh3.googleusercontent.com/a-/AOh14GgKFrQtw-OyvubwOe5xvtv9JOTRkaAVybEHvmq9ag=s64",
      "userId": "07106232567566268752"
     },
     "user_tz": -480
    },
    "id": "KcDKmo_aisiA"
   },
   "outputs": [],
   "source": [
    "# HYPERPARAMETERS\n",
    "MODEL_NAME = 'PATEGAN' # Don't change this\n",
    "DATASET_NAME = 'churn' # Choose either 'churn' or 'marketing' exactly!\n",
    "TARGET_VARIABLE = 'Exited' # either 'Exited' or 'Response'\n",
    "TRAIN_TEST_RATIO = 0.25\n",
    "LEAKY = False # Put False for normal relu. The number indicates the amount of negative slope. Default is 0.01\n",
    "\n",
    "# These seem to be good to tune from what I can tell from the github.\n",
    "NUM_TEACHERS = 6\n",
    "TARGET_EPSILON = 10\n",
    "TARGET_DELTA = 1e-4\n",
    "LEARNING_RATE = 1e-4\n",
    "\n",
    "# Following defaults in the toolbox. Might not be crucial to tune these\n",
    "BATCH_SIZE = 64\n",
    "TEACHER_ITER = 5\n",
    "STUDENT_ITER = 5\n",
    "NUM_MOMENTS= 100\n",
    "LAP_SCALE = 5e-4"
   ]
  },
  {
   "cell_type": "code",
   "execution_count": 4,
   "metadata": {
    "executionInfo": {
     "elapsed": 5,
     "status": "ok",
     "timestamp": 1623408956876,
     "user": {
      "displayName": "Tee Yee Yang",
      "photoUrl": "https://lh3.googleusercontent.com/a-/AOh14GgKFrQtw-OyvubwOe5xvtv9JOTRkaAVybEHvmq9ag=s64",
      "userId": "07106232567566268752"
     },
     "user_tz": -480
    },
    "id": "6LXKHydGhhEF"
   },
   "outputs": [],
   "source": [
    "# Read in data and do train test split\n",
    "df = pd.read_csv(f'{DATASET_NAME}_processed.csv')\n",
    "df_train, df_test = train_test_split(df, test_size=TRAIN_TEST_RATIO, random_state=42, stratify = df[TARGET_VARIABLE])\n",
    "\n",
    "# Initialise logfile path\n",
    "timestamp = int(time.time())\n",
    "logfile = f'logs/log_{DATASET_NAME}_{MODEL_NAME}_{timestamp}_{TARGET_EPSILON}.csv'"
   ]
  },
  {
   "cell_type": "code",
   "execution_count": 5,
   "metadata": {
    "executionInfo": {
     "elapsed": 6,
     "status": "ok",
     "timestamp": 1623408956877,
     "user": {
      "displayName": "Tee Yee Yang",
      "photoUrl": "https://lh3.googleusercontent.com/a-/AOh14GgKFrQtw-OyvubwOe5xvtv9JOTRkaAVybEHvmq9ag=s64",
      "userId": "07106232567566268752"
     },
     "user_tz": -480
    },
    "id": "0rmYtc28ZXk4"
   },
   "outputs": [],
   "source": [
    "# Grab x and y from the respective dataframes and convert to numpy arrays.\n",
    "train_x = df_train.drop(columns=TARGET_VARIABLE).values\n",
    "train_y = df_train[TARGET_VARIABLE].values\n",
    "test_x = df_test.drop(columns=TARGET_VARIABLE).values\n",
    "test_y = df_test[TARGET_VARIABLE].values\n",
    "\n",
    "# Initialise scaler and use this to normalize the inputs.\n",
    "scaler = StandardScaler()\n",
    "train_x = scaler.fit_transform(train_x)\n",
    "test_x = scaler.transform(test_x)\n",
    "\n",
    "\n",
    "# Some misc variables for pategan \n",
    "data_columns = [col for col in df_train.columns if col != TARGET_VARIABLE]\n",
    "class_ratios = df_train[TARGET_VARIABLE].sort_values().groupby(df_train[TARGET_VARIABLE]).size().values/train_x.shape[0]\n",
    "input_dim = train_x.shape[1]\n",
    "z_dim = int(input_dim / 4 + 1) if input_dim % 4 == 0 else int(input_dim / 4)\n",
    "conditional = True"
   ]
  },
  {
   "cell_type": "code",
   "execution_count": 6,
   "metadata": {},
   "outputs": [
    {
     "name": "stdout",
     "output_type": "stream",
     "text": [
      "Best Roc of 0.5910250350546024 found, saving....\n",
      "Step :  0 Loss SD :  0.7180929113212753 Loss G :  0.7183818126947532 Epsilon :  0.10826340371976181 ROC_SCORE:  0.5910250350546024\n",
      "Step :  10 Loss SD :  0.7019465335789457 Loss G :  0.6954782080105072 Epsilon :  0.2564013940552248 ROC_SCORE:  0.5891492067940308\n",
      "Best Roc of 0.5913205692808208 found, saving....\n",
      "Step :  20 Loss SD :  0.708902901283527 Loss G :  0.7148624066689666 Epsilon :  0.35520193023031116 ROC_SCORE:  0.5913205692808208\n",
      "Best Roc of 0.595700791084438 found, saving....\n",
      "Step :  30 Loss SD :  0.6945199786449303 Loss G :  0.7031657656207648 Epsilon :  0.43243396213898133 ROC_SCORE:  0.595700791084438\n",
      "Step :  40 Loss SD :  0.7052230492246097 Loss G :  0.7198223681932581 Epsilon :  0.4982081181615183 ROC_SCORE:  0.5899025970501836\n",
      "Step :  50 Loss SD :  0.6872856869858024 Loss G :  0.69586416779709 Epsilon :  0.5564923638816529 ROC_SCORE:  0.5872067723222083\n",
      "Step :  60 Loss SD :  0.6894228899309376 Loss G :  0.706811779681954 Epsilon :  0.6094277539347147 ROC_SCORE:  0.581697205203376\n",
      "Step :  70 Loss SD :  0.7072188116167053 Loss G :  0.7033426221511228 Epsilon :  0.6583807275705775 ROC_SCORE:  0.5810104211584745\n",
      "Step :  80 Loss SD :  0.6973205724542519 Loss G :  0.7019223372318257 Epsilon :  0.7040037174805994 ROC_SCORE:  0.5909140247025169\n",
      "Step :  90 Loss SD :  0.6943715759134799 Loss G :  0.6941727059383658 Epsilon :  0.7469736148790482 ROC_SCORE:  0.5882404020449586\n",
      "Step :  100 Loss SD :  0.7089775380201807 Loss G :  0.7009319928349083 Epsilon :  0.7877641821656708 ROC_SCORE:  0.5858554063028224\n",
      "Step :  110 Loss SD :  0.6953357038929076 Loss G :  0.6873462838716182 Epsilon :  0.8266895813902668 ROC_SCORE:  0.5871845702517913\n",
      "Step :  120 Loss SD :  0.704958735722736 Loss G :  0.6874057682600353 Epsilon :  0.863931835089831 ROC_SCORE:  0.584577553805484\n",
      "Step :  130 Loss SD :  0.6955499405926643 Loss G :  0.6971104540341069 Epsilon :  0.8997076367607703 ROC_SCORE:  0.5815556053320492\n",
      "Step :  140 Loss SD :  0.7218356178745556 Loss G :  0.6833125770384239 Epsilon :  0.9342770185988073 ROC_SCORE:  0.583115177434013\n",
      "Step :  150 Loss SD :  0.7107977987996814 Loss G :  0.6871694964517525 Epsilon :  0.9678770185988054 ROC_SCORE:  0.5880558781708257\n",
      "Best Roc of 0.5977458484595216 found, saving....\n",
      "Step :  160 Loss SD :  0.6980049486095307 Loss G :  0.6933473501392631 Epsilon :  0.9999547564197935 ROC_SCORE:  0.5977458484595216\n",
      "Step :  170 Loss SD :  0.6885374074707978 Loss G :  0.6868895160632533 Epsilon :  1.0315255762209052 ROC_SCORE:  0.5848064818204513\n",
      "Step :  180 Loss SD :  0.6897524136637477 Loss G :  0.6795893844831027 Epsilon :  1.0619255762209063 ROC_SCORE:  0.5833441054489801\n",
      "Best Roc of 0.5988169750123098 found, saving....\n",
      "Step :  190 Loss SD :  0.6817123091923712 Loss G :  0.6925566581556408 Epsilon :  1.091864727763299 ROC_SCORE:  0.5988169750123098\n",
      "Step :  200 Loss SD :  0.6902619373162077 Loss G :  0.6855860957405309 Epsilon :  1.1206647277632964 ROC_SCORE:  0.5825532183627898\n",
      "Step :  210 Loss SD :  0.7126111231658427 Loss G :  0.6853731601812694 Epsilon :  1.1494647277632937 ROC_SCORE:  0.5747765731647029\n",
      "Step :  220 Loss SD :  0.6933652909493668 Loss G :  0.6894902931817232 Epsilon :  1.1767662732485022 ROC_SCORE:  0.5723609879033252\n",
      "Step :  230 Loss SD :  0.7049671913288613 Loss G :  0.6866366373494324 Epsilon :  1.2039662732485015 ROC_SCORE:  0.5844956528346124\n",
      "Step :  240 Loss SD :  0.6859440583603011 Loss G :  0.6785659273476822 Epsilon :  1.2309826914650757 ROC_SCORE:  0.5792594178715812\n",
      "Step :  250 Loss SD :  0.6921651936223562 Loss G :  0.6840256448810301 Epsilon :  1.2565826914650775 ROC_SCORE:  0.577058946003578\n",
      "Step :  260 Loss SD :  0.6975151434554707 Loss G :  0.6872625080177697 Epsilon :  1.2821826914650793 ROC_SCORE:  0.5852712451611821\n",
      "Step :  270 Loss SD :  0.6936263672050144 Loss G :  0.6902383258784708 Epsilon :  1.3077826914650814 ROC_SCORE:  0.5713564675617884\n",
      "Step :  280 Loss SD :  0.7007524306450748 Loss G :  0.6672352580857841 Epsilon :  1.3322814551411353 ROC_SCORE:  0.5806551880318013\n",
      "Step :  290 Loss SD :  0.6907988272671481 Loss G :  0.6732112649817609 Epsilon :  1.356281455141134 ROC_SCORE:  0.5840377968046779\n",
      "Step :  300 Loss SD :  0.6837370430892812 Loss G :  0.6720032756261095 Epsilon :  1.3802814551411324 ROC_SCORE:  0.5728632480740937\n",
      "Step :  310 Loss SD :  0.6911654750094642 Loss G :  0.6780511946977666 Epsilon :  1.4042814551411311 ROC_SCORE:  0.5784838255450114\n",
      "Step :  320 Loss SD :  0.7034898076976381 Loss G :  0.6797023226431088 Epsilon :  1.427527720921235 ROC_SCORE:  0.5740966964305978\n",
      "Step :  330 Loss SD :  0.7032934541982029 Loss G :  0.6792482390767101 Epsilon :  1.449927720921237 ROC_SCORE:  0.5705586731648016\n",
      "Step :  340 Loss SD :  0.6907486954539088 Loss G :  0.6791485389524673 Epsilon :  1.4723277209212389 ROC_SCORE:  0.5722652723108606\n",
      "Step :  350 Loss SD :  0.6968018918096789 Loss G :  0.676636623636197 Epsilon :  1.4947277209212406 ROC_SCORE:  0.5768078159181937\n",
      "Step :  360 Loss SD :  0.6928210286693139 Loss G :  0.6765761029179442 Epsilon :  1.5171277209212426 ROC_SCORE:  0.5740966964305978\n",
      "Step :  370 Loss SD :  0.6941423761214643 Loss G :  0.6761786856552263 Epsilon :  1.5392083643313244 ROC_SCORE:  0.577959363303826\n",
      "Step :  380 Loss SD :  0.6880868062283476 Loss G :  0.6773050682546715 Epsilon :  1.560008364331323 ROC_SCORE:  0.5676492151814797\n",
      "Step :  390 Loss SD :  0.6924185826072329 Loss G :  0.6657376145828109 Epsilon :  1.5808083643313215 ROC_SCORE:  0.5748500866867505\n",
      "Step :  400 Loss SD :  0.6959893267604828 Loss G :  0.6741214567016103 Epsilon :  1.6016083643313201 ROC_SCORE:  0.5781369798671625\n",
      "Step :  410 Loss SD :  0.6973946247885535 Loss G :  0.6681171953196601 Epsilon :  1.6224083643313187 ROC_SCORE:  0.5792525105607848\n",
      "Step :  420 Loss SD :  0.690410371309904 Loss G :  0.6671018935594735 Epsilon :  1.6432083643313173 ROC_SCORE:  0.5670803487994601\n",
      "Step :  430 Loss SD :  0.695894532700927 Loss G :  0.6601446261586759 Epsilon :  1.664008364331316 ROC_SCORE:  0.5719337213926323\n",
      "Step :  440 Loss SD :  0.6950656474715755 Loss G :  0.6635732703479582 Epsilon :  1.684023670179644 ROC_SCORE:  0.5686537355230166\n",
      "Step :  450 Loss SD :  0.7031089984453504 Loss G :  0.6576141103973626 Epsilon :  1.703223670179647 ROC_SCORE:  0.5768231106778144\n",
      "Step :  460 Loss SD :  0.6927845117758509 Loss G :  0.6587229705243254 Epsilon :  1.72242367017965 ROC_SCORE:  0.5889646829198979\n",
      "Step :  470 Loss SD :  0.6976989651941398 Loss G :  0.6564492617272284 Epsilon :  1.741623670179653 ROC_SCORE:  0.5715715809551626\n",
      "Step :  480 Loss SD :  0.6835937570402757 Loss G :  0.6651247953175022 Epsilon :  1.7608236701796562 ROC_SCORE:  0.5700870025132744\n",
      "Step :  490 Loss SD :  0.6954864502620567 Loss G :  0.6661017512651183 Epsilon :  1.7800236701796592 ROC_SCORE:  0.5750207959392907\n",
      "Step :  500 Loss SD :  0.6940292326357844 Loss G :  0.6682996381422734 Epsilon :  1.7992236701796622 ROC_SCORE:  0.5726940189595814\n",
      "Step :  510 Loss SD :  0.6887105541986316 Loss G :  0.6733646853656161 Epsilon :  1.8184236701796654 ROC_SCORE:  0.5668889176145306\n",
      "Step :  520 Loss SD :  0.6920366971265901 Loss G :  0.6683951476055608 Epsilon :  1.8376236701796684 ROC_SCORE:  0.559421621264255\n",
      "Step :  530 Loss SD :  0.6930920047383244 Loss G :  0.6698782811011126 Epsilon :  1.8555940371976103 ROC_SCORE:  0.579296914701619\n",
      "Step :  540 Loss SD :  0.6981106598497993 Loss G :  0.6741082952441066 Epsilon :  1.8731940371976101 ROC_SCORE:  0.5621840522034816\n",
      "Step :  550 Loss SD :  0.6950186777694153 Loss G :  0.6757987473004798 Epsilon :  1.89079403719761 ROC_SCORE:  0.5737873475827866\n",
      "Step :  560 Loss SD :  0.6950122170009904 Loss G :  0.6741625350087337 Epsilon :  1.9083940371976098 ROC_SCORE:  0.5778858497817784\n",
      "Step :  570 Loss SD :  0.6915842317483596 Loss G :  0.670542275424063 Epsilon :  1.9259940371976096 ROC_SCORE:  0.5604108468461712\n",
      "Step :  580 Loss SD :  0.6896440917192856 Loss G :  0.6722969747256413 Epsilon :  1.9435940371976095 ROC_SCORE:  0.5630997642633501\n",
      "Step :  590 Loss SD :  0.6907031636578296 Loss G :  0.6722600989917064 Epsilon :  1.9611940371976093 ROC_SCORE:  0.5623172646259839\n",
      "Step :  600 Loss SD :  0.6900588428904357 Loss G :  0.6729902457773149 Epsilon :  1.9787940371976092 ROC_SCORE:  0.5721182452667652\n"
     ]
    },
    {
     "name": "stdout",
     "output_type": "stream",
     "text": [
      "Step :  610 Loss SD :  0.700398764452651 Loss G :  0.6703960838297021 Epsilon :  1.996394037197609 ROC_SCORE:  0.5626350009226194\n",
      "Step :  620 Loss SD :  0.6894067689790444 Loss G :  0.6752151684595892 Epsilon :  2.013994037197609 ROC_SCORE:  0.5678268317448164\n",
      "Step :  630 Loss SD :  0.6964080076974695 Loss G :  0.6756765724189009 Epsilon :  2.0315940371976087 ROC_SCORE:  0.5728203240712874\n",
      "Step :  640 Loss SD :  0.6958032169865347 Loss G :  0.6765378423104316 Epsilon :  2.0489711524418155 ROC_SCORE:  0.5663131439217145\n",
      "Step :  650 Loss SD :  0.6923929770410874 Loss G :  0.6771245139281735 Epsilon :  2.064971152441812 ROC_SCORE:  0.5670443321074501\n",
      "Step :  660 Loss SD :  0.6969477220856892 Loss G :  0.6788552846763521 Epsilon :  2.080971152441808 ROC_SCORE:  0.568891050986808\n",
      "Step :  670 Loss SD :  0.6873866782706866 Loss G :  0.6818335136897169 Epsilon :  2.0969711524418044 ROC_SCORE:  0.5712469373477309\n",
      "Step :  680 Loss SD :  0.6903302481729314 Loss G :  0.6746397564217448 Epsilon :  2.1129711524418004 ROC_SCORE:  0.5601459021391941\n",
      "Step :  690 Loss SD :  0.6912945798261425 Loss G :  0.6783280416425713 Epsilon :  2.128971152441797 ROC_SCORE:  0.5716450944772103\n",
      "Step :  700 Loss SD :  0.6961413500382704 Loss G :  0.6729239342445487 Epsilon :  2.144971152441793 ROC_SCORE:  0.5640751752236736\n",
      "Step :  710 Loss SD :  0.6927765715694009 Loss G :  0.6722812026937551 Epsilon :  2.1609711524417894 ROC_SCORE:  0.5712094405176931\n",
      "Step :  720 Loss SD :  0.692872156988338 Loss G :  0.6720013820812092 Epsilon :  2.1769711524417854 ROC_SCORE:  0.5736916319903218\n",
      "Step :  730 Loss SD :  0.7001622108284913 Loss G :  0.6738681715504804 Epsilon :  2.192971152441782 ROC_SCORE:  0.5582256697377886\n",
      "Step :  740 Loss SD :  0.6880877574693427 Loss G :  0.6681586938866699 Epsilon :  2.2089711524417783 ROC_SCORE:  0.5728272313820837\n",
      "Step :  750 Loss SD :  0.6904923278026041 Loss G :  0.6661297160420643 Epsilon :  2.2249711524417743 ROC_SCORE:  0.5666086781479328\n",
      "Step :  760 Loss SD :  0.6941687799380346 Loss G :  0.6627904630268476 Epsilon :  2.240971152441771 ROC_SCORE:  0.5596214398980086\n",
      "Step :  770 Loss SD :  0.7000373790968482 Loss G :  0.6653601188328213 Epsilon :  2.256971152441767 ROC_SCORE:  0.5729313344233727\n",
      "Step :  780 Loss SD :  0.6888857860335174 Loss G :  0.6656861319233978 Epsilon :  2.2729711524417633 ROC_SCORE:  0.5776361998344219\n",
      "Step :  790 Loss SD :  0.6982352058487177 Loss G :  0.6653355382635782 Epsilon :  2.2889711524417593 ROC_SCORE:  0.5686774177314615\n",
      "Step :  800 Loss SD :  0.6922250126055357 Loss G :  0.672303752525089 Epsilon :  2.304732546496992 ROC_SCORE:  0.5668459936117243\n",
      "Step :  810 Loss SD :  0.6938321330735191 Loss G :  0.6763682677132147 Epsilon :  2.3191325464969954 ROC_SCORE:  0.5773184635377865\n",
      "Step :  820 Loss SD :  0.6937695074585457 Loss G :  0.6742007623482054 Epsilon :  2.3335325464969987 ROC_SCORE:  0.5706711636549148\n",
      "Step :  830 Loss SD :  0.6926820564217352 Loss G :  0.6794859472701911 Epsilon :  2.347932546497002 ROC_SCORE:  0.5636173191937393\n",
      "Step :  840 Loss SD :  0.6907600644851637 Loss G :  0.6769042084949553 Epsilon :  2.3623325464970053 ROC_SCORE:  0.5621258334410545\n",
      "Step :  850 Loss SD :  0.6889074732443647 Loss G :  0.6823966814082898 Epsilon :  2.3767325464970086 ROC_SCORE:  0.5632191620642597\n",
      "Step :  860 Loss SD :  0.6943712181331022 Loss G :  0.6659090005871335 Epsilon :  2.391132546497012 ROC_SCORE:  0.5690089686496898\n",
      "Step :  870 Loss SD :  0.6930118585234131 Loss G :  0.6737869366285518 Epsilon :  2.405532546497015 ROC_SCORE:  0.5669930206558195\n",
      "Step :  880 Loss SD :  0.7005122271274548 Loss G :  0.6702404523936953 Epsilon :  2.4199325464970185 ROC_SCORE:  0.5725247898450689\n",
      "Step :  890 Loss SD :  0.6971155660116348 Loss G :  0.6816551452266932 Epsilon :  2.434332546497022 ROC_SCORE:  0.5761960255333677\n",
      "Step :  900 Loss SD :  0.690232717061513 Loss G :  0.6753949380505158 Epsilon :  2.448732546497025 ROC_SCORE:  0.5745269232173464\n",
      "Step :  910 Loss SD :  0.6929479288636562 Loss G :  0.6826567896751026 Epsilon :  2.4631325464970284 ROC_SCORE:  0.5674883735157916\n",
      "Step :  920 Loss SD :  0.6904748513496822 Loss G :  0.6735416791067097 Epsilon :  2.4775325464970317 ROC_SCORE:  0.574046865116995\n",
      "Step :  930 Loss SD :  0.6889186488627309 Loss G :  0.6815859830299003 Epsilon :  2.491932546497035 ROC_SCORE:  0.574682337710266\n",
      "Step :  940 Loss SD :  0.6933254122980474 Loss G :  0.6769596190741649 Epsilon :  2.5063325464970383 ROC_SCORE:  0.5711734238256831\n",
      "Step :  950 Loss SD :  0.6901071513371633 Loss G :  0.6806156607755289 Epsilon :  2.5207325464970416 ROC_SCORE:  0.5661439148072022\n",
      "Step :  960 Loss SD :  0.6911497734325704 Loss G :  0.671184137007206 Epsilon :  2.535132546497045 ROC_SCORE:  0.5737444235799802\n",
      "Step :  970 Loss SD :  0.695283963385662 Loss G :  0.6724913248676001 Epsilon :  2.549532546497048 ROC_SCORE:  0.5657901618185568\n",
      "Step :  980 Loss SD :  0.6994586489577937 Loss G :  0.6762012679291634 Epsilon :  2.5639325464970515 ROC_SCORE:  0.563654816023777\n",
      "Step :  990 Loss SD :  0.6974549760985191 Loss G :  0.66953000080916 Epsilon :  2.578332546497055 ROC_SCORE:  0.5669348018933925\n",
      "Step :  1000 Loss SD :  0.6883517083509473 Loss G :  0.6636448014591501 Epsilon :  2.592732546497058 ROC_SCORE:  0.5730576395350788\n",
      "Step :  1010 Loss SD :  0.6902708397310389 Loss G :  0.6638455838877849 Epsilon :  2.6071325464970614 ROC_SCORE:  0.57570906012222\n",
      "Step :  1020 Loss SD :  0.6940411763343552 Loss G :  0.6683590092194367 Epsilon :  2.6215325464970647 ROC_SCORE:  0.5617567856927885\n",
      "Step :  1030 Loss SD :  0.6913799670057119 Loss G :  0.6638278270593033 Epsilon :  2.6354429102823227 ROC_SCORE:  0.556423354999265\n",
      "Step :  1040 Loss SD :  0.69623056445052 Loss G :  0.674565053861304 Epsilon :  2.648242910282323 ROC_SCORE:  0.5619107200476802\n",
      "Step :  1050 Loss SD :  0.6931174792230835 Loss G :  0.6678198841068027 Epsilon :  2.661042910282323 ROC_SCORE:  0.5613946452553189\n",
      "Step :  1060 Loss SD :  0.6973907702185073 Loss G :  0.6773826307577371 Epsilon :  2.6738429102823233 ROC_SCORE:  0.5565274580405538\n",
      "Step :  1070 Loss SD :  0.6941331532622204 Loss G :  0.6691422064392692 Epsilon :  2.6866429102823233 ROC_SCORE:  0.5672816475712414\n",
      "Step :  1080 Loss SD :  0.7022356704658466 Loss G :  0.6694521428750215 Epsilon :  2.699442910282323 ROC_SCORE:  0.5594966149243304\n",
      "Step :  1090 Loss SD :  0.689406730434426 Loss G :  0.6701691399022773 Epsilon :  2.7122429102823236 ROC_SCORE:  0.5586766184569265\n",
      "Step :  1100 Loss SD :  0.6908777604354022 Loss G :  0.6712242202086676 Epsilon :  2.7250429102823235 ROC_SCORE:  0.5683971782648638\n",
      "Step :  1110 Loss SD :  0.701616420274763 Loss G :  0.673352148001386 Epsilon :  2.737842910282324 ROC_SCORE:  0.5723180639005189\n",
      "Step :  1120 Loss SD :  0.6982819300903564 Loss G :  0.6692541393731336 Epsilon :  2.7506429102823238 ROC_SCORE:  0.5674883735157916\n",
      "Step :  1130 Loss SD :  0.694881852345447 Loss G :  0.6758285231635917 Epsilon :  2.763442910282324 ROC_SCORE:  0.5629749392896718\n",
      "Step :  1140 Loss SD :  0.6960449367931499 Loss G :  0.6816082675072901 Epsilon :  2.776242910282324 ROC_SCORE:  0.5564608518293026\n",
      "Step :  1150 Loss SD :  0.6891963760414223 Loss G :  0.6750652477995285 Epsilon :  2.789042910282324 ROC_SCORE:  0.565072788254414\n",
      "Step :  1160 Loss SD :  0.6973427694684513 Loss G :  0.6886150771463071 Epsilon :  2.8018429102823244 ROC_SCORE:  0.5612614328328165\n",
      "Step :  1170 Loss SD :  0.693366124305135 Loss G :  0.6805953292323562 Epsilon :  2.8146429102823243 ROC_SCORE:  0.5693642017763629\n",
      "Step :  1180 Loss SD :  0.6953724824206617 Loss G :  0.6834134623658921 Epsilon :  2.8274429102823246 ROC_SCORE:  0.567599383867877\n"
     ]
    },
    {
     "name": "stderr",
     "output_type": "stream",
     "text": [
      "/home/yeeyang/anaconda3/lib/python3.7/site-packages/sklearn/neural_network/_multilayer_perceptron.py:573: UserWarning: Training interrupted by user.\n",
      "  warnings.warn(\"Training interrupted by user.\")\n"
     ]
    },
    {
     "name": "stdout",
     "output_type": "stream",
     "text": [
      "Step :  1190 Loss SD :  0.694149386914055 Loss G :  0.6779833156392725 Epsilon :  2.8402429102823246 ROC_SCORE:  0.5797730257672297\n",
      "Step :  1200 Loss SD :  0.6894970138853458 Loss G :  0.675243299525383 Epsilon :  2.853042910282325 ROC_SCORE:  0.5536096126084078\n"
     ]
    },
    {
     "ename": "KeyboardInterrupt",
     "evalue": "",
     "output_type": "error",
     "traceback": [
      "\u001b[0;31m---------------------------------------------------------------------------\u001b[0m",
      "\u001b[0;31mKeyboardInterrupt\u001b[0m                         Traceback (most recent call last)",
      "\u001b[0;32m<ipython-input-6-24a952ee0e23>\u001b[0m in \u001b[0;36m<module>\u001b[0;34m\u001b[0m\n\u001b[1;32m      8\u001b[0m model.train(train_x, train_y, test_x, test_y, data_columns, scaler, DATASET_NAME, Hyperparams(batch_size=BATCH_SIZE, num_teacher_iters=TEACHER_ITER,\n\u001b[1;32m      9\u001b[0m                                               \u001b[0mnum_student_iters\u001b[0m\u001b[0;34m=\u001b[0m\u001b[0mSTUDENT_ITER\u001b[0m\u001b[0;34m,\u001b[0m \u001b[0mnum_moments\u001b[0m\u001b[0;34m=\u001b[0m\u001b[0mNUM_MOMENTS\u001b[0m\u001b[0;34m,\u001b[0m\u001b[0;34m\u001b[0m\u001b[0;34m\u001b[0m\u001b[0m\n\u001b[0;32m---> 10\u001b[0;31m                                               lap_scale=LAP_SCALE, class_ratios=class_ratios, lr=LEARNING_RATE))\n\u001b[0m\u001b[1;32m     11\u001b[0m \u001b[0;34m\u001b[0m\u001b[0m\n",
      "\u001b[0;32m/hdd/yeeyang/private-data-generation/models/pate_gan.py\u001b[0m in \u001b[0;36mtrain\u001b[0;34m(self, x_train, y_train, x_test, y_test, colnames, scaler, data_name, hyperparams)\u001b[0m\n\u001b[1;32m    140\u001b[0m \u001b[0;34m\u001b[0m\u001b[0m\n\u001b[1;32m    141\u001b[0m                 \u001b[0;31m# update the moments\u001b[0m\u001b[0;34m\u001b[0m\u001b[0;34m\u001b[0m\u001b[0;34m\u001b[0m\u001b[0m\n\u001b[0;32m--> 142\u001b[0;31m                 \u001b[0malpha\u001b[0m \u001b[0;34m=\u001b[0m \u001b[0malpha\u001b[0m \u001b[0;34m+\u001b[0m \u001b[0mmoments_acc\u001b[0m\u001b[0;34m(\u001b[0m\u001b[0mself\u001b[0m\u001b[0;34m.\u001b[0m\u001b[0mnum_teachers\u001b[0m\u001b[0;34m,\u001b[0m \u001b[0mclean_votes\u001b[0m\u001b[0;34m,\u001b[0m \u001b[0mlap_scale\u001b[0m\u001b[0;34m,\u001b[0m \u001b[0ml_list\u001b[0m\u001b[0;34m)\u001b[0m\u001b[0;34m\u001b[0m\u001b[0;34m\u001b[0m\u001b[0m\n\u001b[0m\u001b[1;32m    143\u001b[0m \u001b[0;34m\u001b[0m\u001b[0m\n\u001b[1;32m    144\u001b[0m                 \u001b[0;31m# update student\u001b[0m\u001b[0;34m\u001b[0m\u001b[0;34m\u001b[0m\u001b[0;34m\u001b[0m\u001b[0m\n",
      "\u001b[0;32m/hdd/yeeyang/private-data-generation/utils/helper.py\u001b[0m in \u001b[0;36mmoments_acc\u001b[0;34m(num_teachers, clean_votes, lap_scale, l_list)\u001b[0m\n\u001b[1;32m     50\u001b[0m     \u001b[0;32mfor\u001b[0m \u001b[0ml\u001b[0m \u001b[0;32min\u001b[0m \u001b[0ml_list\u001b[0m\u001b[0;34m:\u001b[0m\u001b[0;34m\u001b[0m\u001b[0;34m\u001b[0m\u001b[0m\n\u001b[1;32m     51\u001b[0m         \u001b[0ma\u001b[0m \u001b[0;34m=\u001b[0m \u001b[0;36m2\u001b[0m\u001b[0;34m*\u001b[0m\u001b[0mlap_scale\u001b[0m\u001b[0;34m*\u001b[0m\u001b[0mlap_scale\u001b[0m\u001b[0;34m*\u001b[0m\u001b[0ml\u001b[0m\u001b[0;34m*\u001b[0m\u001b[0;34m(\u001b[0m\u001b[0ml\u001b[0m \u001b[0;34m+\u001b[0m \u001b[0;36m1\u001b[0m\u001b[0;34m)\u001b[0m\u001b[0;34m\u001b[0m\u001b[0;34m\u001b[0m\u001b[0m\n\u001b[0;32m---> 52\u001b[0;31m         \u001b[0mt_one\u001b[0m \u001b[0;34m=\u001b[0m \u001b[0;34m(\u001b[0m\u001b[0;36m1\u001b[0m \u001b[0;34m-\u001b[0m \u001b[0mq\u001b[0m\u001b[0;34m)\u001b[0m \u001b[0;34m*\u001b[0m \u001b[0mtorch\u001b[0m\u001b[0;34m.\u001b[0m\u001b[0mpow\u001b[0m\u001b[0;34m(\u001b[0m\u001b[0;34m(\u001b[0m\u001b[0;36m1\u001b[0m \u001b[0;34m-\u001b[0m \u001b[0mq\u001b[0m\u001b[0;34m)\u001b[0m \u001b[0;34m/\u001b[0m \u001b[0;34m(\u001b[0m\u001b[0;36m1\u001b[0m \u001b[0;34m-\u001b[0m \u001b[0mmath\u001b[0m\u001b[0;34m.\u001b[0m\u001b[0mexp\u001b[0m\u001b[0;34m(\u001b[0m\u001b[0;36m2\u001b[0m\u001b[0;34m*\u001b[0m\u001b[0mlap_scale\u001b[0m\u001b[0;34m)\u001b[0m \u001b[0;34m*\u001b[0m \u001b[0mq\u001b[0m\u001b[0;34m)\u001b[0m\u001b[0;34m,\u001b[0m \u001b[0ml\u001b[0m\u001b[0;34m)\u001b[0m\u001b[0;34m\u001b[0m\u001b[0;34m\u001b[0m\u001b[0m\n\u001b[0m\u001b[1;32m     53\u001b[0m         \u001b[0mt_two\u001b[0m \u001b[0;34m=\u001b[0m \u001b[0mq\u001b[0m \u001b[0;34m*\u001b[0m \u001b[0mtorch\u001b[0m\u001b[0;34m.\u001b[0m\u001b[0mexp\u001b[0m\u001b[0;34m(\u001b[0m\u001b[0;36m2\u001b[0m\u001b[0;34m*\u001b[0m\u001b[0mlap_scale\u001b[0m \u001b[0;34m*\u001b[0m \u001b[0ml\u001b[0m\u001b[0;34m)\u001b[0m\u001b[0;34m\u001b[0m\u001b[0;34m\u001b[0m\u001b[0m\n\u001b[1;32m     54\u001b[0m         \u001b[0mt\u001b[0m \u001b[0;34m=\u001b[0m \u001b[0mt_one\u001b[0m \u001b[0;34m+\u001b[0m \u001b[0mt_two\u001b[0m\u001b[0;34m\u001b[0m\u001b[0;34m\u001b[0m\u001b[0m\n",
      "\u001b[0;32m~/anaconda3/lib/python3.7/site-packages/torch/tensor.py\u001b[0m in \u001b[0;36m__rsub__\u001b[0;34m(self, other)\u001b[0m\n\u001b[1;32m    526\u001b[0m         \u001b[0;32mif\u001b[0m \u001b[0mhas_torch_function_variadic\u001b[0m\u001b[0;34m(\u001b[0m\u001b[0mself\u001b[0m\u001b[0;34m,\u001b[0m \u001b[0mother\u001b[0m\u001b[0;34m)\u001b[0m\u001b[0;34m:\u001b[0m\u001b[0;34m\u001b[0m\u001b[0;34m\u001b[0m\u001b[0m\n\u001b[1;32m    527\u001b[0m             \u001b[0;32mreturn\u001b[0m \u001b[0mhandle_torch_function\u001b[0m\u001b[0;34m(\u001b[0m\u001b[0mTensor\u001b[0m\u001b[0;34m.\u001b[0m\u001b[0m__rsub__\u001b[0m\u001b[0;34m,\u001b[0m \u001b[0;34m(\u001b[0m\u001b[0mself\u001b[0m\u001b[0;34m,\u001b[0m \u001b[0mother\u001b[0m\u001b[0;34m)\u001b[0m\u001b[0;34m,\u001b[0m \u001b[0mself\u001b[0m\u001b[0;34m,\u001b[0m \u001b[0mother\u001b[0m\u001b[0;34m)\u001b[0m\u001b[0;34m\u001b[0m\u001b[0;34m\u001b[0m\u001b[0m\n\u001b[0;32m--> 528\u001b[0;31m         \u001b[0;32mreturn\u001b[0m \u001b[0m_C\u001b[0m\u001b[0;34m.\u001b[0m\u001b[0m_VariableFunctions\u001b[0m\u001b[0;34m.\u001b[0m\u001b[0mrsub\u001b[0m\u001b[0;34m(\u001b[0m\u001b[0mself\u001b[0m\u001b[0;34m,\u001b[0m \u001b[0mother\u001b[0m\u001b[0;34m)\u001b[0m\u001b[0;34m\u001b[0m\u001b[0;34m\u001b[0m\u001b[0m\n\u001b[0m\u001b[1;32m    529\u001b[0m \u001b[0;34m\u001b[0m\u001b[0m\n\u001b[1;32m    530\u001b[0m     \u001b[0;32mdef\u001b[0m \u001b[0m__rdiv__\u001b[0m\u001b[0;34m(\u001b[0m\u001b[0mself\u001b[0m\u001b[0;34m,\u001b[0m \u001b[0mother\u001b[0m\u001b[0;34m)\u001b[0m\u001b[0;34m:\u001b[0m\u001b[0;34m\u001b[0m\u001b[0;34m\u001b[0m\u001b[0m\n",
      "\u001b[0;31mKeyboardInterrupt\u001b[0m: "
     ]
    }
   ],
   "source": [
    "# Initialise hyperparams and do TRAINING\n",
    "Hyperparams = collections.namedtuple(\n",
    "        'Hyperarams',\n",
    "        'batch_size num_teacher_iters num_student_iters num_moments lap_scale class_ratios lr')\n",
    "Hyperparams.__new__.__defaults__ = (None, None, None, None, None, None, None)\n",
    "\n",
    "model = pate_gan.PATE_GAN(LEAKY,logfile, input_dim, z_dim, NUM_TEACHERS, TARGET_EPSILON, TARGET_DELTA, conditional)\n",
    "model.train(train_x, train_y, test_x, test_y, data_columns, scaler, DATASET_NAME, Hyperparams(batch_size=BATCH_SIZE, num_teacher_iters=TEACHER_ITER,\n",
    "                                              num_student_iters=STUDENT_ITER, num_moments=NUM_MOMENTS,\n",
    "                                              lap_scale=LAP_SCALE, class_ratios=class_ratios, lr=LEARNING_RATE))\n",
    "\n"
   ]
  },
  {
   "cell_type": "code",
   "execution_count": null,
   "metadata": {
    "colab": {
     "base_uri": "https://localhost:8080/"
    },
    "executionInfo": {
     "elapsed": 342,
     "status": "ok",
     "timestamp": 1623409778557,
     "user": {
      "displayName": "Tee Yee Yang",
      "photoUrl": "https://lh3.googleusercontent.com/a-/AOh14GgKFrQtw-OyvubwOe5xvtv9JOTRkaAVybEHvmq9ag=s64",
      "userId": "07106232567566268752"
     },
     "user_tz": -480
    },
    "id": "src6RqhrGOge",
    "outputId": "c77277ee-36ed-44af-c7dc-911652753b33"
   },
   "outputs": [],
   "source": [
    "# Optional: Look at model architectures\n",
    "print(model.student_disc)\n",
    "print(model.teacher_disc[0])\n",
    "print(model.generator)"
   ]
  },
  {
   "cell_type": "markdown",
   "metadata": {
    "id": "AEdrKNFmOf4R"
   },
   "source": [
    "## Generate synthetic data using trained model, then save in CSV"
   ]
  },
  {
   "cell_type": "code",
   "execution_count": 27,
   "metadata": {
    "executionInfo": {
     "elapsed": 433,
     "status": "ok",
     "timestamp": 1623410052478,
     "user": {
      "displayName": "Tee Yee Yang",
      "photoUrl": "https://lh3.googleusercontent.com/a-/AOh14GgKFrQtw-OyvubwOe5xvtv9JOTRkaAVybEHvmq9ag=s64",
      "userId": "07106232567566268752"
     },
     "user_tz": -480
    },
    "id": "nXRyRloMOf4S"
   },
   "outputs": [],
   "source": [
    "# Helper functions for saving the synthetic data...\n",
    "def update_array(indexes, cols = None):\n",
    "    if cols: colsize = cols\n",
    "    else: colsize = indexes.max() +1\n",
    "    b = np.zeros((indexes.size, colsize))\n",
    "    b[np.arange(indexes.size), indexes] = 1\n",
    "    return b\n",
    "\n",
    "def save_marketing():\n",
    "    # Some fancy indexing to get the actual synthetic data..\n",
    "    accepted = np.argmax(syn_save[:,16:21], axis=1)\n",
    "    education = np.argmax(syn_save[:, 22:27], axis=1)\n",
    "    marital = np.argmax(syn_save[:, 27:34], axis=1)\n",
    "    country = np.argmax(syn_save[:, 34:], axis=1)\n",
    "\n",
    "    syn_save[:,16:21] = update_array(accepted, cols=5)\n",
    "    syn_save[:, 22:27] = update_array(education, cols=5)\n",
    "    syn_save[:, 27:34] = update_array(marital, cols=7)\n",
    "    syn_save[:, 34:] = update_array(country, cols=8)\n",
    "\n",
    "    df1 = pd.DataFrame(syn_save, columns = df.columns.drop(TARGET_VARIABLE))\n",
    "    df2 = pd.DataFrame(syn_y, columns = [TARGET_VARIABLE])\n",
    "    df_save = pd.concat([df1,df2], axis =1)\n",
    "    df_save.to_csv(f'synthetic_{MODEL_NAME}_{DATASET_NAME}_{TARGET_EPSILON}.csv')\n",
    "\n",
    "def save_churn():\n",
    "    geography = np.argmax(syn_save[:,8:11], axis=1)\n",
    "    gender = np.argmax(syn_save[:,11:], axis=1)\n",
    "    \n",
    "    syn_save[:,8:11] = update_array(geography, cols=3)\n",
    "    syn_save[:, 11:] = update_array(gender, cols=2)\n",
    "    syn_save[:,4] = np.round(syn_save[:,4]) # num products\n",
    "    syn_save[:,5] = np.round(np.clip(syn_save[:,5],0,1)) # Has card\n",
    "    syn_save[:,6] = np.round(np.clip(syn_save[:,6],0,1)) # Is active\n",
    "\n",
    "\n",
    "    df1 = pd.DataFrame(syn_save, columns = df.columns.drop(TARGET_VARIABLE))\n",
    "    df2 = pd.DataFrame(syn_y, columns = [TARGET_VARIABLE])\n",
    "    df_save = pd.concat([df1,df2], axis =1)\n",
    "    df_save.to_csv(f'synthetic_{MODEL_NAME}_{DATASET_NAME}_{TARGET_EPSILON}.csv')\n"
   ]
  },
  {
   "cell_type": "code",
   "execution_count": 26,
   "metadata": {
    "colab": {
     "base_uri": "https://localhost:8080/"
    },
    "executionInfo": {
     "elapsed": 288,
     "status": "ok",
     "timestamp": 1623410007008,
     "user": {
      "displayName": "Tee Yee Yang",
      "photoUrl": "https://lh3.googleusercontent.com/a-/AOh14GgKFrQtw-OyvubwOe5xvtv9JOTRkaAVybEHvmq9ag=s64",
      "userId": "07106232567566268752"
     },
     "user_tz": -480
    },
    "id": "odo2I7tExEKk",
    "outputId": "cd93e659-fa10-46ad-ed6b-963093d214cf"
   },
   "outputs": [
    {
     "data": {
      "text/plain": [
       "0.0"
      ]
     },
     "execution_count": 26,
     "metadata": {
      "tags": []
     },
     "output_type": "execute_result"
    }
   ],
   "source": [
    "np.round(np.clip(syn_save[:,5],0,1)).min()"
   ]
  },
  {
   "cell_type": "code",
   "execution_count": 28,
   "metadata": {
    "executionInfo": {
     "elapsed": 307,
     "status": "ok",
     "timestamp": 1623410055300,
     "user": {
      "displayName": "Tee Yee Yang",
      "photoUrl": "https://lh3.googleusercontent.com/a-/AOh14GgKFrQtw-OyvubwOe5xvtv9JOTRkaAVybEHvmq9ag=s64",
      "userId": "07106232567566268752"
     },
     "user_tz": -480
    },
    "id": "tj7RmPumf7Jq"
   },
   "outputs": [],
   "source": [
    "df_save = save_churn()"
   ]
  },
  {
   "cell_type": "code",
   "execution_count": 37,
   "metadata": {
    "colab": {
     "base_uri": "https://localhost:8080/",
     "height": 439
    },
    "executionInfo": {
     "elapsed": 320,
     "status": "ok",
     "timestamp": 1623410229662,
     "user": {
      "displayName": "Tee Yee Yang",
      "photoUrl": "https://lh3.googleusercontent.com/a-/AOh14GgKFrQtw-OyvubwOe5xvtv9JOTRkaAVybEHvmq9ag=s64",
      "userId": "07106232567566268752"
     },
     "user_tz": -480
    },
    "id": "XaJ7XstKxIJ_",
    "outputId": "22501de3-3fdb-4d68-f37e-1c0030805a69"
   },
   "outputs": [
    {
     "data": {
      "text/html": [
       "<div>\n",
       "<style scoped>\n",
       "    .dataframe tbody tr th:only-of-type {\n",
       "        vertical-align: middle;\n",
       "    }\n",
       "\n",
       "    .dataframe tbody tr th {\n",
       "        vertical-align: top;\n",
       "    }\n",
       "\n",
       "    .dataframe thead th {\n",
       "        text-align: right;\n",
       "    }\n",
       "</style>\n",
       "<table border=\"1\" class=\"dataframe\">\n",
       "  <thead>\n",
       "    <tr style=\"text-align: right;\">\n",
       "      <th></th>\n",
       "      <th>CreditScore</th>\n",
       "      <th>Age</th>\n",
       "      <th>Tenure</th>\n",
       "      <th>Balance</th>\n",
       "      <th>NumOfProducts</th>\n",
       "      <th>HasCrCard</th>\n",
       "      <th>IsActiveMember</th>\n",
       "      <th>EstimatedSalary</th>\n",
       "      <th>Geography_France</th>\n",
       "      <th>Geography_Germany</th>\n",
       "      <th>Geography_Spain</th>\n",
       "      <th>Gender_Female</th>\n",
       "      <th>Gender_Male</th>\n",
       "      <th>Exited</th>\n",
       "    </tr>\n",
       "  </thead>\n",
       "  <tbody>\n",
       "    <tr>\n",
       "      <th>0</th>\n",
       "      <td>569.189810</td>\n",
       "      <td>40.029415</td>\n",
       "      <td>6.717890</td>\n",
       "      <td>89681.936477</td>\n",
       "      <td>2.0</td>\n",
       "      <td>1.0</td>\n",
       "      <td>1.0</td>\n",
       "      <td>130466.340459</td>\n",
       "      <td>0.0</td>\n",
       "      <td>0.0</td>\n",
       "      <td>1.0</td>\n",
       "      <td>0.0</td>\n",
       "      <td>1.0</td>\n",
       "      <td>0.0</td>\n",
       "    </tr>\n",
       "    <tr>\n",
       "      <th>1</th>\n",
       "      <td>570.501744</td>\n",
       "      <td>33.474992</td>\n",
       "      <td>8.674211</td>\n",
       "      <td>110469.707352</td>\n",
       "      <td>1.0</td>\n",
       "      <td>1.0</td>\n",
       "      <td>1.0</td>\n",
       "      <td>71928.116744</td>\n",
       "      <td>1.0</td>\n",
       "      <td>0.0</td>\n",
       "      <td>0.0</td>\n",
       "      <td>0.0</td>\n",
       "      <td>1.0</td>\n",
       "      <td>0.0</td>\n",
       "    </tr>\n",
       "    <tr>\n",
       "      <th>2</th>\n",
       "      <td>419.490332</td>\n",
       "      <td>51.890009</td>\n",
       "      <td>18.356562</td>\n",
       "      <td>200372.129774</td>\n",
       "      <td>0.0</td>\n",
       "      <td>0.0</td>\n",
       "      <td>1.0</td>\n",
       "      <td>264136.140441</td>\n",
       "      <td>0.0</td>\n",
       "      <td>0.0</td>\n",
       "      <td>1.0</td>\n",
       "      <td>0.0</td>\n",
       "      <td>1.0</td>\n",
       "      <td>1.0</td>\n",
       "    </tr>\n",
       "    <tr>\n",
       "      <th>3</th>\n",
       "      <td>542.538826</td>\n",
       "      <td>42.563155</td>\n",
       "      <td>8.338049</td>\n",
       "      <td>117159.416072</td>\n",
       "      <td>1.0</td>\n",
       "      <td>0.0</td>\n",
       "      <td>1.0</td>\n",
       "      <td>155246.459858</td>\n",
       "      <td>0.0</td>\n",
       "      <td>0.0</td>\n",
       "      <td>1.0</td>\n",
       "      <td>0.0</td>\n",
       "      <td>1.0</td>\n",
       "      <td>0.0</td>\n",
       "    </tr>\n",
       "    <tr>\n",
       "      <th>4</th>\n",
       "      <td>577.241597</td>\n",
       "      <td>42.062559</td>\n",
       "      <td>10.930599</td>\n",
       "      <td>89837.667759</td>\n",
       "      <td>1.0</td>\n",
       "      <td>0.0</td>\n",
       "      <td>1.0</td>\n",
       "      <td>137180.080401</td>\n",
       "      <td>0.0</td>\n",
       "      <td>0.0</td>\n",
       "      <td>1.0</td>\n",
       "      <td>0.0</td>\n",
       "      <td>1.0</td>\n",
       "      <td>0.0</td>\n",
       "    </tr>\n",
       "    <tr>\n",
       "      <th>...</th>\n",
       "      <td>...</td>\n",
       "      <td>...</td>\n",
       "      <td>...</td>\n",
       "      <td>...</td>\n",
       "      <td>...</td>\n",
       "      <td>...</td>\n",
       "      <td>...</td>\n",
       "      <td>...</td>\n",
       "      <td>...</td>\n",
       "      <td>...</td>\n",
       "      <td>...</td>\n",
       "      <td>...</td>\n",
       "      <td>...</td>\n",
       "      <td>...</td>\n",
       "    </tr>\n",
       "    <tr>\n",
       "      <th>7495</th>\n",
       "      <td>594.765712</td>\n",
       "      <td>36.708907</td>\n",
       "      <td>6.737492</td>\n",
       "      <td>84549.090124</td>\n",
       "      <td>1.0</td>\n",
       "      <td>1.0</td>\n",
       "      <td>1.0</td>\n",
       "      <td>88441.888815</td>\n",
       "      <td>1.0</td>\n",
       "      <td>0.0</td>\n",
       "      <td>0.0</td>\n",
       "      <td>0.0</td>\n",
       "      <td>1.0</td>\n",
       "      <td>0.0</td>\n",
       "    </tr>\n",
       "    <tr>\n",
       "      <th>7496</th>\n",
       "      <td>533.535706</td>\n",
       "      <td>43.156655</td>\n",
       "      <td>10.432683</td>\n",
       "      <td>119125.835245</td>\n",
       "      <td>1.0</td>\n",
       "      <td>0.0</td>\n",
       "      <td>1.0</td>\n",
       "      <td>163115.984498</td>\n",
       "      <td>0.0</td>\n",
       "      <td>0.0</td>\n",
       "      <td>1.0</td>\n",
       "      <td>0.0</td>\n",
       "      <td>1.0</td>\n",
       "      <td>0.0</td>\n",
       "    </tr>\n",
       "    <tr>\n",
       "      <th>7497</th>\n",
       "      <td>563.589866</td>\n",
       "      <td>39.947245</td>\n",
       "      <td>6.797705</td>\n",
       "      <td>91301.876516</td>\n",
       "      <td>2.0</td>\n",
       "      <td>1.0</td>\n",
       "      <td>1.0</td>\n",
       "      <td>132893.947639</td>\n",
       "      <td>0.0</td>\n",
       "      <td>0.0</td>\n",
       "      <td>1.0</td>\n",
       "      <td>0.0</td>\n",
       "      <td>1.0</td>\n",
       "      <td>0.0</td>\n",
       "    </tr>\n",
       "    <tr>\n",
       "      <th>7498</th>\n",
       "      <td>586.354935</td>\n",
       "      <td>38.140655</td>\n",
       "      <td>8.512222</td>\n",
       "      <td>92579.078628</td>\n",
       "      <td>1.0</td>\n",
       "      <td>1.0</td>\n",
       "      <td>1.0</td>\n",
       "      <td>102529.715082</td>\n",
       "      <td>1.0</td>\n",
       "      <td>0.0</td>\n",
       "      <td>0.0</td>\n",
       "      <td>0.0</td>\n",
       "      <td>1.0</td>\n",
       "      <td>0.0</td>\n",
       "    </tr>\n",
       "    <tr>\n",
       "      <th>7499</th>\n",
       "      <td>588.454970</td>\n",
       "      <td>35.886111</td>\n",
       "      <td>6.749212</td>\n",
       "      <td>81964.722904</td>\n",
       "      <td>1.0</td>\n",
       "      <td>1.0</td>\n",
       "      <td>1.0</td>\n",
       "      <td>87343.176253</td>\n",
       "      <td>1.0</td>\n",
       "      <td>0.0</td>\n",
       "      <td>0.0</td>\n",
       "      <td>0.0</td>\n",
       "      <td>1.0</td>\n",
       "      <td>0.0</td>\n",
       "    </tr>\n",
       "  </tbody>\n",
       "</table>\n",
       "<p>7500 rows × 14 columns</p>\n",
       "</div>"
      ],
      "text/plain": [
       "      CreditScore        Age     Tenure  ...  Gender_Female  Gender_Male  Exited\n",
       "0      569.189810  40.029415   6.717890  ...            0.0          1.0     0.0\n",
       "1      570.501744  33.474992   8.674211  ...            0.0          1.0     0.0\n",
       "2      419.490332  51.890009  18.356562  ...            0.0          1.0     1.0\n",
       "3      542.538826  42.563155   8.338049  ...            0.0          1.0     0.0\n",
       "4      577.241597  42.062559  10.930599  ...            0.0          1.0     0.0\n",
       "...           ...        ...        ...  ...            ...          ...     ...\n",
       "7495   594.765712  36.708907   6.737492  ...            0.0          1.0     0.0\n",
       "7496   533.535706  43.156655  10.432683  ...            0.0          1.0     0.0\n",
       "7497   563.589866  39.947245   6.797705  ...            0.0          1.0     0.0\n",
       "7498   586.354935  38.140655   8.512222  ...            0.0          1.0     0.0\n",
       "7499   588.454970  35.886111   6.749212  ...            0.0          1.0     0.0\n",
       "\n",
       "[7500 rows x 14 columns]"
      ]
     },
     "execution_count": 37,
     "metadata": {
      "tags": []
     },
     "output_type": "execute_result"
    }
   ],
   "source": [
    "df_save"
   ]
  },
  {
   "cell_type": "code",
   "execution_count": 15,
   "metadata": {
    "colab": {
     "base_uri": "https://localhost:8080/"
    },
    "executionInfo": {
     "elapsed": 301,
     "status": "ok",
     "timestamp": 1623409809129,
     "user": {
      "displayName": "Tee Yee Yang",
      "photoUrl": "https://lh3.googleusercontent.com/a-/AOh14GgKFrQtw-OyvubwOe5xvtv9JOTRkaAVybEHvmq9ag=s64",
      "userId": "07106232567566268752"
     },
     "user_tz": -480
    },
    "id": "RH3-0pxZhlDt",
    "outputId": "70684264-8972-4f90-eb9d-c08154ef4934"
   },
   "outputs": [
    {
     "data": {
      "text/plain": [
       "Index(['CreditScore', 'Age', 'Tenure', 'Balance', 'NumOfProducts', 'HasCrCard',\n",
       "       'IsActiveMember', 'EstimatedSalary', 'Exited', 'Geography_France',\n",
       "       'Geography_Germany', 'Geography_Spain', 'Gender_Female', 'Gender_Male'],\n",
       "      dtype='object')"
      ]
     },
     "execution_count": 15,
     "metadata": {
      "tags": []
     },
     "output_type": "execute_result"
    }
   ],
   "source": [
    "df_train.columns"
   ]
  },
  {
   "cell_type": "code",
   "execution_count": 50,
   "metadata": {
    "colab": {
     "base_uri": "https://localhost:8080/"
    },
    "executionInfo": {
     "elapsed": 340,
     "status": "ok",
     "timestamp": 1623410367144,
     "user": {
      "displayName": "Tee Yee Yang",
      "photoUrl": "https://lh3.googleusercontent.com/a-/AOh14GgKFrQtw-OyvubwOe5xvtv9JOTRkaAVybEHvmq9ag=s64",
      "userId": "07106232567566268752"
     },
     "user_tz": -480
    },
    "id": "ZnbEtOPNhGB-",
    "outputId": "7731c588-d48b-4b06-aaef-77e965738c5e"
   },
   "outputs": [
    {
     "name": "stdout",
     "output_type": "stream",
     "text": [
      "1    5304\n",
      "0    2196\n",
      "Name: HasCrCard, dtype: int64\n",
      "0.0    5547\n",
      "1.0    1953\n",
      "Name: HasCrCard, dtype: int64\n"
     ]
    }
   ],
   "source": [
    "COL = 5\n",
    "print(df_train.iloc[:,COL].value_counts())\n",
    "print(df_save.iloc[:,COL].value_counts())"
   ]
  },
  {
   "cell_type": "code",
   "execution_count": 51,
   "metadata": {
    "colab": {
     "base_uri": "https://localhost:8080/",
     "height": 282
    },
    "executionInfo": {
     "elapsed": 757,
     "status": "ok",
     "timestamp": 1623410372520,
     "user": {
      "displayName": "Tee Yee Yang",
      "photoUrl": "https://lh3.googleusercontent.com/a-/AOh14GgKFrQtw-OyvubwOe5xvtv9JOTRkaAVybEHvmq9ag=s64",
      "userId": "07106232567566268752"
     },
     "user_tz": -480
    },
    "id": "C9sUEiE6gUTQ",
    "outputId": "cc808a24-d7b5-4264-f70e-763297cd38d0"
   },
   "outputs": [
    {
     "data": {
      "text/plain": [
       "<matplotlib.axes._subplots.AxesSubplot at 0x7fe18045f450>"
      ]
     },
     "execution_count": 51,
     "metadata": {
      "tags": []
     },
     "output_type": "execute_result"
    },
    {
     "data": {
      "image/png": "[encoded data removed]",
      "text/plain": [
       "<Figure size 432x288 with 1 Axes>"
      ]
     },
     "metadata": {
      "needs_background": "light",
      "tags": []
     },
     "output_type": "display_data"
    }
   ],
   "source": [
    "import seaborn as sns\n",
    "\n",
    "sns.histplot(syn_x[:,COL])"
   ]
  },
  {
   "cell_type": "code",
   "execution_count": 52,
   "metadata": {
    "colab": {
     "base_uri": "https://localhost:8080/",
     "height": 282
    },
    "executionInfo": {
     "elapsed": 10,
     "status": "ok",
     "timestamp": 1623410372521,
     "user": {
      "displayName": "Tee Yee Yang",
      "photoUrl": "https://lh3.googleusercontent.com/a-/AOh14GgKFrQtw-OyvubwOe5xvtv9JOTRkaAVybEHvmq9ag=s64",
      "userId": "07106232567566268752"
     },
     "user_tz": -480
    },
    "id": "7lw2lCpHyNYx",
    "outputId": "1b5be044-6569-4c93-9250-875c9bcbe36a"
   },
   "outputs": [
    {
     "data": {
      "text/plain": [
       "<matplotlib.axes._subplots.AxesSubplot at 0x7fe18022b750>"
      ]
     },
     "execution_count": 52,
     "metadata": {
      "tags": []
     },
     "output_type": "execute_result"
    },
    {
     "data": {
      "image/png": "[encoded data removed]",
      "text/plain": [
       "<Figure size 432x288 with 1 Axes>"
      ]
     },
     "metadata": {
      "needs_background": "light",
      "tags": []
     },
     "output_type": "display_data"
    }
   ],
   "source": [
    "sns.histplot(train_x[:,COL])"
   ]
  },
  {
   "cell_type": "code",
   "execution_count": 19,
   "metadata": {
    "colab": {
     "base_uri": "https://localhost:8080/",
     "height": 296
    },
    "executionInfo": {
     "elapsed": 5,
     "status": "ok",
     "timestamp": 1623409813504,
     "user": {
      "displayName": "Tee Yee Yang",
      "photoUrl": "https://lh3.googleusercontent.com/a-/AOh14GgKFrQtw-OyvubwOe5xvtv9JOTRkaAVybEHvmq9ag=s64",
      "userId": "07106232567566268752"
     },
     "user_tz": -480
    },
    "id": "uR6iWcoPglg8",
    "outputId": "c828ea86-4942-4fcd-8dfa-1251a55edc04"
   },
   "outputs": [
    {
     "data": {
      "text/plain": [
       "<matplotlib.axes._subplots.AxesSubplot at 0x7fe1d0609590>"
      ]
     },
     "execution_count": 19,
     "metadata": {
      "tags": []
     },
     "output_type": "execute_result"
    },
    {
     "data": {
      "image/png": "[encoded data removed]",
      "text/plain": [
       "<Figure size 432x288 with 1 Axes>"
      ]
     },
     "metadata": {
      "needs_background": "light",
      "tags": []
     },
     "output_type": "display_data"
    }
   ],
   "source": [
    "sns.histplot(df_train['Age'])"
   ]
  },
  {
   "cell_type": "code",
   "execution_count": 13,
   "metadata": {
    "executionInfo": {
     "elapsed": 315,
     "status": "ok",
     "timestamp": 1623409803123,
     "user": {
      "displayName": "Tee Yee Yang",
      "photoUrl": "https://lh3.googleusercontent.com/a-/AOh14GgKFrQtw-OyvubwOe5xvtv9JOTRkaAVybEHvmq9ag=s64",
      "userId": "07106232567566268752"
     },
     "user_tz": -480
    },
    "id": "a62lAY90Of4S"
   },
   "outputs": [],
   "source": [
    "# Run this cell to generate data and save them.\n",
    "syn_data = model.generate(train_x.shape[0], class_ratios)\n",
    "syn_x, syn_y = syn_data[:, :-1], syn_data[:, -1]\n",
    "\n",
    "# Make a copy for saving\n",
    "syn_save = scaler.inverse_transform(syn_x)\n",
    "\n",
    "# Save data to csv using functions\n",
    "if DATASET_NAME == 'churn': save_churn()\n",
    "else: save_marketing()"
   ]
  },
  {
   "cell_type": "markdown",
   "metadata": {
    "id": "NzwFmG7wOf4T"
   },
   "source": [
    "## Do classification using Neural Networks and look at ROC Score"
   ]
  },
  {
   "cell_type": "code",
   "execution_count": 41,
   "metadata": {
    "colab": {
     "base_uri": "https://localhost:8080/"
    },
    "executionInfo": {
     "elapsed": 5320,
     "status": "ok",
     "timestamp": 1623405368046,
     "user": {
      "displayName": "Tee Yee Yang",
      "photoUrl": "https://lh3.googleusercontent.com/a-/AOh14GgKFrQtw-OyvubwOe5xvtv9JOTRkaAVybEHvmq9ag=s64",
      "userId": "07106232567566268752"
     },
     "user_tz": -480
    },
    "id": "QRtEB0Orm7ah",
    "outputId": "e7c3fe2d-31f3-424f-b357-99ce98d6d3e8"
   },
   "outputs": [
    {
     "name": "stdout",
     "output_type": "stream",
     "text": [
      "ROC Score 0.523977249291754\n",
      "Accuracy 0.4852\n"
     ]
    }
   ],
   "source": [
    "# Train using Synthetic data, using simple neural network.\n",
    "mlp = MLPClassifier((32,8), max_iter=1000, random_state=42)\n",
    "mlp.fit(syn_x, syn_y)\n",
    "pred_y = mlp.predict(test_x)\n",
    "\n",
    "print('ROC Score', roc_auc_score(test_y, pred_y))\n",
    "print('Accuracy', mlp.score(test_x,test_y))"
   ]
  },
  {
   "cell_type": "code",
   "execution_count": 42,
   "metadata": {
    "colab": {
     "base_uri": "https://localhost:8080/"
    },
    "executionInfo": {
     "elapsed": 10074,
     "status": "ok",
     "timestamp": 1623405378118,
     "user": {
      "displayName": "Tee Yee Yang",
      "photoUrl": "https://lh3.googleusercontent.com/a-/AOh14GgKFrQtw-OyvubwOe5xvtv9JOTRkaAVybEHvmq9ag=s64",
      "userId": "07106232567566268752"
     },
     "user_tz": -480
    },
    "id": "nB_uyefotvDF",
    "outputId": "540b4e18-8e11-4501-ddd2-bbbec1eea282"
   },
   "outputs": [
    {
     "name": "stdout",
     "output_type": "stream",
     "text": [
      "ROC Score 0.7328967583990432\n",
      "Accuracy 0.8564\n"
     ]
    }
   ],
   "source": [
    "# Train using REAL data, using simple neural network.\n",
    "mlp = MLPClassifier((32,8), max_iter=1000, random_state=42)\n",
    "mlp.fit(train_x, train_y)\n",
    "pred_y = mlp.predict(test_x)\n",
    "\n",
    "print('ROC Score', roc_auc_score(test_y, pred_y))\n",
    "print('Accuracy', mlp.score(test_x,test_y))\n",
    "# Uitvoer van uitgevoerde code vanaf 7 jun. 2021 03:50\n",
    "# \tStream\n",
    "# \t\tROC Score 0.7530632082470008\n",
    "# \t\tAccuracy 0.8754512635379061"
   ]
  },
  {
   "cell_type": "code",
   "execution_count": null,
   "metadata": {
    "id": "Z26Et5H0Of4U"
   },
   "outputs": [],
   "source": [
    "from sklearn.neural_network import MLPClassifier\n",
    "from sklearn.ensemble import RandomForestClassifier, AdaBoostClassifier\n",
    "from sklearn.tree import DecisionTreeClassifier\n",
    "from sklearn.naive_bayes import GaussianNB,BernoulliNB\n",
    "from sklearn.svm import SVC\n",
    "from sklearn.linear_model import LogisticRegression"
   ]
  },
  {
   "cell_type": "code",
   "execution_count": null,
   "metadata": {
    "id": "Y8X5idt6zWrI"
   },
   "outputs": [],
   "source": [
    "# Initialise all models\n",
    "classifier_names = ['MLP', 'RF', 'ADABOOST', 'DT', 'GauNB', 'BernNB', 'SVM', 'LogReg']\n",
    "classifiers = [MLPClassifier((32,8), max_iter=1000, random_state=42), #MLP\n",
    "               RandomForestClassifier(max_depth=2, random_state=42), #RF\n",
    "               AdaBoostClassifier(n_estimators=50, random_state=42),\n",
    "               DecisionTreeClassifier(random_state=42),\n",
    "               GaussianNB(),\n",
    "               BernoulliNB(),\n",
    "               SVC(random_state=42),\n",
    "               LogisticRegression(random_state=42)\n",
    "]"
   ]
  },
  {
   "cell_type": "code",
   "execution_count": null,
   "metadata": {
    "id": "O4xxVDIEzZuo"
   },
   "outputs": [],
   "source": [
    "syn_clf_accuracy = []\n",
    "syn_clf_roc_score = []\n",
    "real_clf_accuracy = []\n",
    "real_clf_roc_score = []\n",
    "\n",
    "# Loop thru all classifiers.\n",
    "for clf in classifiers:\n",
    "\n",
    "    # Do synthetic\n",
    "    clf.fit(syn_x, syn_y)\n",
    "    pred_y = clf.predict(test_x)\n",
    "\n",
    "    # compute score and append\n",
    "    syn_clf_roc_score.append(roc_auc_score(test_y, pred_y))\n",
    "    syn_clf_accuracy.append(clf.score(test_x,test_y))\n",
    "\n",
    "    # Do real training data\n",
    "    clf.fit(train_x, train_y)\n",
    "    pred_y = clf.predict(test_x)\n",
    "\n",
    "    # compute score and append\n",
    "    real_clf_roc_score.append(roc_auc_score(test_y, pred_y))\n",
    "    real_clf_accuracy.append(clf.score(test_x,test_y))"
   ]
  },
  {
   "cell_type": "code",
   "execution_count": null,
   "metadata": {
    "id": "x9kWsQABzbji"
   },
   "outputs": [],
   "source": [
    "score_df = pd.DataFrame({'Classifier Name':classifier_names,\n",
    "                         'Accuracy on Synthetic':syn_clf_accuracy,\n",
    "                         'ROC on Synthetic': syn_clf_roc_score,\n",
    "                         'Accuracy on Real': real_clf_accuracy,\n",
    "                         'ROC on Real': real_clf_roc_score,\n",
    "                         })\n",
    "score_df.to_csv('scores.csv') # Make into a csv that you can download and do computations!"
   ]
  },
  {
   "cell_type": "code",
   "execution_count": null,
   "metadata": {
    "colab": {
     "base_uri": "https://localhost:8080/",
     "height": 314
    },
    "executionInfo": {
     "elapsed": 196,
     "status": "ok",
     "timestamp": 1623329147411,
     "user": {
      "displayName": "Rishi Yildiz",
      "photoUrl": "https://lh3.googleusercontent.com/a-/AOh14GgKrDEkVNAvDdk6mSPj9mqfa7nsf70pBZmUc1aP8D4=s64",
      "userId": "04327726311178638571"
     },
     "user_tz": -120
    },
    "id": "R8rC27ri0M4s",
    "outputId": "257850a3-b0d4-41a2-cd4d-cfa0f5a2a3ce"
   },
   "outputs": [
    {
     "data": {
      "text/html": [
       "<div>\n",
       "<style scoped>\n",
       "    .dataframe tbody tr th:only-of-type {\n",
       "        vertical-align: middle;\n",
       "    }\n",
       "\n",
       "    .dataframe tbody tr th {\n",
       "        vertical-align: top;\n",
       "    }\n",
       "\n",
       "    .dataframe thead th {\n",
       "        text-align: right;\n",
       "    }\n",
       "</style>\n",
       "<table border=\"1\" class=\"dataframe\">\n",
       "  <thead>\n",
       "    <tr style=\"text-align: right;\">\n",
       "      <th></th>\n",
       "      <th>Classifier Name</th>\n",
       "      <th>Accuracy on Synthetic</th>\n",
       "      <th>ROC on Synthetic</th>\n",
       "      <th>Accuracy on Real</th>\n",
       "      <th>ROC on Real</th>\n",
       "    </tr>\n",
       "  </thead>\n",
       "  <tbody>\n",
       "    <tr>\n",
       "      <th>0</th>\n",
       "      <td>MLP</td>\n",
       "      <td>0.518051</td>\n",
       "      <td>0.612347</td>\n",
       "      <td>0.875451</td>\n",
       "      <td>0.753063</td>\n",
       "    </tr>\n",
       "    <tr>\n",
       "      <th>1</th>\n",
       "      <td>RF</td>\n",
       "      <td>0.850181</td>\n",
       "      <td>0.500000</td>\n",
       "      <td>0.851986</td>\n",
       "      <td>0.506024</td>\n",
       "    </tr>\n",
       "    <tr>\n",
       "      <th>2</th>\n",
       "      <td>ADABOOST</td>\n",
       "      <td>0.750903</td>\n",
       "      <td>0.545827</td>\n",
       "      <td>0.897112</td>\n",
       "      <td>0.750914</td>\n",
       "    </tr>\n",
       "    <tr>\n",
       "      <th>3</th>\n",
       "      <td>DT</td>\n",
       "      <td>0.514440</td>\n",
       "      <td>0.550674</td>\n",
       "      <td>0.803249</td>\n",
       "      <td>0.656013</td>\n",
       "    </tr>\n",
       "    <tr>\n",
       "      <th>4</th>\n",
       "      <td>GauNB</td>\n",
       "      <td>0.738267</td>\n",
       "      <td>0.622759</td>\n",
       "      <td>0.871841</td>\n",
       "      <td>0.636802</td>\n",
       "    </tr>\n",
       "    <tr>\n",
       "      <th>5</th>\n",
       "      <td>BernNB</td>\n",
       "      <td>0.790614</td>\n",
       "      <td>0.519556</td>\n",
       "      <td>0.781588</td>\n",
       "      <td>0.702824</td>\n",
       "    </tr>\n",
       "    <tr>\n",
       "      <th>6</th>\n",
       "      <td>SVM</td>\n",
       "      <td>0.850181</td>\n",
       "      <td>0.500000</td>\n",
       "      <td>0.879061</td>\n",
       "      <td>0.626161</td>\n",
       "    </tr>\n",
       "    <tr>\n",
       "      <th>7</th>\n",
       "      <td>LogReg</td>\n",
       "      <td>0.723827</td>\n",
       "      <td>0.658929</td>\n",
       "      <td>0.895307</td>\n",
       "      <td>0.715115</td>\n",
       "    </tr>\n",
       "  </tbody>\n",
       "</table>\n",
       "</div>"
      ],
      "text/plain": [
       "  Classifier Name  Accuracy on Synthetic  ...  Accuracy on Real  ROC on Real\n",
       "0             MLP               0.518051  ...          0.875451     0.753063\n",
       "1              RF               0.850181  ...          0.851986     0.506024\n",
       "2        ADABOOST               0.750903  ...          0.897112     0.750914\n",
       "3              DT               0.514440  ...          0.803249     0.656013\n",
       "4           GauNB               0.738267  ...          0.871841     0.636802\n",
       "5          BernNB               0.790614  ...          0.781588     0.702824\n",
       "6             SVM               0.850181  ...          0.879061     0.626161\n",
       "7          LogReg               0.723827  ...          0.895307     0.715115\n",
       "\n",
       "[8 rows x 5 columns]"
      ]
     },
     "execution_count": 84,
     "metadata": {
      "tags": []
     },
     "output_type": "execute_result"
    }
   ],
   "source": [
    "score_df"
   ]
  }
 ],
 "metadata": {
  "accelerator": "GPU",
  "colab": {
   "collapsed_sections": [],
   "machine_shape": "hm",
   "name": "pategan-fullscript.ipynb",
   "provenance": []
  },
  "kernelspec": {
   "display_name": "Python 3",
   "language": "python",
   "name": "python3"
  }
 },
 "nbformat": 4,
 "nbformat_minor": 1
}
